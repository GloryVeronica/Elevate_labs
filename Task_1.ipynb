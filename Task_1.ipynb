{
 "cells": [
  {
   "cell_type": "code",
   "execution_count": 1,
   "id": "ca5b8ee8",
   "metadata": {},
   "outputs": [],
   "source": [
    "import os\n",
    "import pandas as pd\n",
    "import numpy as np\n",
    "import matplotlib.pyplot as plt\n",
    "import seaborn as sns\n",
    "from datetime import datetime\n",
    "\n",
    "from sklearn.model_selection import train_test_split\n",
    "from sklearn.pipeline import Pipeline\n",
    "from sklearn.compose import ColumnTransformer\n",
    "from sklearn.impute import SimpleImputer\n",
    "from sklearn.preprocessing import OneHotEncoder, StandardScaler, OrdinalEncoder\n",
    "from sklearn.linear_model import LogisticRegression\n",
    "from sklearn.ensemble import RandomForestClassifier\n",
    "from sklearn.cluster import KMeans\n",
    "from sklearn.metrics import (accuracy_score, precision_score, recall_score, f1_score,\n",
    "                             roc_auc_score, confusion_matrix, classification_report)"
   ]
  },
  {
   "cell_type": "code",
   "execution_count": 3,
   "id": "fc658166",
   "metadata": {},
   "outputs": [
    {
     "data": {
      "text/html": [
       "<div>\n",
       "<style scoped>\n",
       "    .dataframe tbody tr th:only-of-type {\n",
       "        vertical-align: middle;\n",
       "    }\n",
       "\n",
       "    .dataframe tbody tr th {\n",
       "        vertical-align: top;\n",
       "    }\n",
       "\n",
       "    .dataframe thead th {\n",
       "        text-align: right;\n",
       "    }\n",
       "</style>\n",
       "<table border=\"1\" class=\"dataframe\">\n",
       "  <thead>\n",
       "    <tr style=\"text-align: right;\">\n",
       "      <th></th>\n",
       "      <th>show_id</th>\n",
       "      <th>type</th>\n",
       "      <th>title</th>\n",
       "      <th>director</th>\n",
       "      <th>cast</th>\n",
       "      <th>country</th>\n",
       "      <th>date_added</th>\n",
       "      <th>release_year</th>\n",
       "      <th>rating</th>\n",
       "      <th>duration</th>\n",
       "      <th>listed_in</th>\n",
       "      <th>description</th>\n",
       "    </tr>\n",
       "  </thead>\n",
       "  <tbody>\n",
       "    <tr>\n",
       "      <th>0</th>\n",
       "      <td>s1</td>\n",
       "      <td>Movie</td>\n",
       "      <td>Dick Johnson Is Dead</td>\n",
       "      <td>Kirsten Johnson</td>\n",
       "      <td>NaN</td>\n",
       "      <td>United States</td>\n",
       "      <td>September 25, 2021</td>\n",
       "      <td>2020</td>\n",
       "      <td>PG-13</td>\n",
       "      <td>90 min</td>\n",
       "      <td>Documentaries</td>\n",
       "      <td>As her father nears the end of his life, filmm...</td>\n",
       "    </tr>\n",
       "    <tr>\n",
       "      <th>1</th>\n",
       "      <td>s2</td>\n",
       "      <td>TV Show</td>\n",
       "      <td>Blood &amp; Water</td>\n",
       "      <td>NaN</td>\n",
       "      <td>Ama Qamata, Khosi Ngema, Gail Mabalane, Thaban...</td>\n",
       "      <td>South Africa</td>\n",
       "      <td>September 24, 2021</td>\n",
       "      <td>2021</td>\n",
       "      <td>TV-MA</td>\n",
       "      <td>2 Seasons</td>\n",
       "      <td>International TV Shows, TV Dramas, TV Mysteries</td>\n",
       "      <td>After crossing paths at a party, a Cape Town t...</td>\n",
       "    </tr>\n",
       "    <tr>\n",
       "      <th>2</th>\n",
       "      <td>s3</td>\n",
       "      <td>TV Show</td>\n",
       "      <td>Ganglands</td>\n",
       "      <td>Julien Leclercq</td>\n",
       "      <td>Sami Bouajila, Tracy Gotoas, Samuel Jouy, Nabi...</td>\n",
       "      <td>NaN</td>\n",
       "      <td>September 24, 2021</td>\n",
       "      <td>2021</td>\n",
       "      <td>TV-MA</td>\n",
       "      <td>1 Season</td>\n",
       "      <td>Crime TV Shows, International TV Shows, TV Act...</td>\n",
       "      <td>To protect his family from a powerful drug lor...</td>\n",
       "    </tr>\n",
       "    <tr>\n",
       "      <th>3</th>\n",
       "      <td>s4</td>\n",
       "      <td>TV Show</td>\n",
       "      <td>Jailbirds New Orleans</td>\n",
       "      <td>NaN</td>\n",
       "      <td>NaN</td>\n",
       "      <td>NaN</td>\n",
       "      <td>September 24, 2021</td>\n",
       "      <td>2021</td>\n",
       "      <td>TV-MA</td>\n",
       "      <td>1 Season</td>\n",
       "      <td>Docuseries, Reality TV</td>\n",
       "      <td>Feuds, flirtations and toilet talk go down amo...</td>\n",
       "    </tr>\n",
       "    <tr>\n",
       "      <th>4</th>\n",
       "      <td>s5</td>\n",
       "      <td>TV Show</td>\n",
       "      <td>Kota Factory</td>\n",
       "      <td>NaN</td>\n",
       "      <td>Mayur More, Jitendra Kumar, Ranjan Raj, Alam K...</td>\n",
       "      <td>India</td>\n",
       "      <td>September 24, 2021</td>\n",
       "      <td>2021</td>\n",
       "      <td>TV-MA</td>\n",
       "      <td>2 Seasons</td>\n",
       "      <td>International TV Shows, Romantic TV Shows, TV ...</td>\n",
       "      <td>In a city of coaching centers known to train I...</td>\n",
       "    </tr>\n",
       "    <tr>\n",
       "      <th>...</th>\n",
       "      <td>...</td>\n",
       "      <td>...</td>\n",
       "      <td>...</td>\n",
       "      <td>...</td>\n",
       "      <td>...</td>\n",
       "      <td>...</td>\n",
       "      <td>...</td>\n",
       "      <td>...</td>\n",
       "      <td>...</td>\n",
       "      <td>...</td>\n",
       "      <td>...</td>\n",
       "      <td>...</td>\n",
       "    </tr>\n",
       "    <tr>\n",
       "      <th>8802</th>\n",
       "      <td>s8803</td>\n",
       "      <td>Movie</td>\n",
       "      <td>Zodiac</td>\n",
       "      <td>David Fincher</td>\n",
       "      <td>Mark Ruffalo, Jake Gyllenhaal, Robert Downey J...</td>\n",
       "      <td>United States</td>\n",
       "      <td>November 20, 2019</td>\n",
       "      <td>2007</td>\n",
       "      <td>R</td>\n",
       "      <td>158 min</td>\n",
       "      <td>Cult Movies, Dramas, Thrillers</td>\n",
       "      <td>A political cartoonist, a crime reporter and a...</td>\n",
       "    </tr>\n",
       "    <tr>\n",
       "      <th>8803</th>\n",
       "      <td>s8804</td>\n",
       "      <td>TV Show</td>\n",
       "      <td>Zombie Dumb</td>\n",
       "      <td>NaN</td>\n",
       "      <td>NaN</td>\n",
       "      <td>NaN</td>\n",
       "      <td>July 1, 2019</td>\n",
       "      <td>2018</td>\n",
       "      <td>TV-Y7</td>\n",
       "      <td>2 Seasons</td>\n",
       "      <td>Kids' TV, Korean TV Shows, TV Comedies</td>\n",
       "      <td>While living alone in a spooky town, a young g...</td>\n",
       "    </tr>\n",
       "    <tr>\n",
       "      <th>8804</th>\n",
       "      <td>s8805</td>\n",
       "      <td>Movie</td>\n",
       "      <td>Zombieland</td>\n",
       "      <td>Ruben Fleischer</td>\n",
       "      <td>Jesse Eisenberg, Woody Harrelson, Emma Stone, ...</td>\n",
       "      <td>United States</td>\n",
       "      <td>November 1, 2019</td>\n",
       "      <td>2009</td>\n",
       "      <td>R</td>\n",
       "      <td>88 min</td>\n",
       "      <td>Comedies, Horror Movies</td>\n",
       "      <td>Looking to survive in a world taken over by zo...</td>\n",
       "    </tr>\n",
       "    <tr>\n",
       "      <th>8805</th>\n",
       "      <td>s8806</td>\n",
       "      <td>Movie</td>\n",
       "      <td>Zoom</td>\n",
       "      <td>Peter Hewitt</td>\n",
       "      <td>Tim Allen, Courteney Cox, Chevy Chase, Kate Ma...</td>\n",
       "      <td>United States</td>\n",
       "      <td>January 11, 2020</td>\n",
       "      <td>2006</td>\n",
       "      <td>PG</td>\n",
       "      <td>88 min</td>\n",
       "      <td>Children &amp; Family Movies, Comedies</td>\n",
       "      <td>Dragged from civilian life, a former superhero...</td>\n",
       "    </tr>\n",
       "    <tr>\n",
       "      <th>8806</th>\n",
       "      <td>s8807</td>\n",
       "      <td>Movie</td>\n",
       "      <td>Zubaan</td>\n",
       "      <td>Mozez Singh</td>\n",
       "      <td>Vicky Kaushal, Sarah-Jane Dias, Raaghav Chanan...</td>\n",
       "      <td>India</td>\n",
       "      <td>March 2, 2019</td>\n",
       "      <td>2015</td>\n",
       "      <td>TV-14</td>\n",
       "      <td>111 min</td>\n",
       "      <td>Dramas, International Movies, Music &amp; Musicals</td>\n",
       "      <td>A scrappy but poor boy worms his way into a ty...</td>\n",
       "    </tr>\n",
       "  </tbody>\n",
       "</table>\n",
       "<p>8807 rows × 12 columns</p>\n",
       "</div>"
      ],
      "text/plain": [
       "     show_id     type                  title         director  \\\n",
       "0         s1    Movie   Dick Johnson Is Dead  Kirsten Johnson   \n",
       "1         s2  TV Show          Blood & Water              NaN   \n",
       "2         s3  TV Show              Ganglands  Julien Leclercq   \n",
       "3         s4  TV Show  Jailbirds New Orleans              NaN   \n",
       "4         s5  TV Show           Kota Factory              NaN   \n",
       "...      ...      ...                    ...              ...   \n",
       "8802   s8803    Movie                 Zodiac    David Fincher   \n",
       "8803   s8804  TV Show            Zombie Dumb              NaN   \n",
       "8804   s8805    Movie             Zombieland  Ruben Fleischer   \n",
       "8805   s8806    Movie                   Zoom     Peter Hewitt   \n",
       "8806   s8807    Movie                 Zubaan      Mozez Singh   \n",
       "\n",
       "                                                   cast        country  \\\n",
       "0                                                   NaN  United States   \n",
       "1     Ama Qamata, Khosi Ngema, Gail Mabalane, Thaban...   South Africa   \n",
       "2     Sami Bouajila, Tracy Gotoas, Samuel Jouy, Nabi...            NaN   \n",
       "3                                                   NaN            NaN   \n",
       "4     Mayur More, Jitendra Kumar, Ranjan Raj, Alam K...          India   \n",
       "...                                                 ...            ...   \n",
       "8802  Mark Ruffalo, Jake Gyllenhaal, Robert Downey J...  United States   \n",
       "8803                                                NaN            NaN   \n",
       "8804  Jesse Eisenberg, Woody Harrelson, Emma Stone, ...  United States   \n",
       "8805  Tim Allen, Courteney Cox, Chevy Chase, Kate Ma...  United States   \n",
       "8806  Vicky Kaushal, Sarah-Jane Dias, Raaghav Chanan...          India   \n",
       "\n",
       "              date_added  release_year rating   duration  \\\n",
       "0     September 25, 2021          2020  PG-13     90 min   \n",
       "1     September 24, 2021          2021  TV-MA  2 Seasons   \n",
       "2     September 24, 2021          2021  TV-MA   1 Season   \n",
       "3     September 24, 2021          2021  TV-MA   1 Season   \n",
       "4     September 24, 2021          2021  TV-MA  2 Seasons   \n",
       "...                  ...           ...    ...        ...   \n",
       "8802   November 20, 2019          2007      R    158 min   \n",
       "8803        July 1, 2019          2018  TV-Y7  2 Seasons   \n",
       "8804    November 1, 2019          2009      R     88 min   \n",
       "8805    January 11, 2020          2006     PG     88 min   \n",
       "8806       March 2, 2019          2015  TV-14    111 min   \n",
       "\n",
       "                                              listed_in  \\\n",
       "0                                         Documentaries   \n",
       "1       International TV Shows, TV Dramas, TV Mysteries   \n",
       "2     Crime TV Shows, International TV Shows, TV Act...   \n",
       "3                                Docuseries, Reality TV   \n",
       "4     International TV Shows, Romantic TV Shows, TV ...   \n",
       "...                                                 ...   \n",
       "8802                     Cult Movies, Dramas, Thrillers   \n",
       "8803             Kids' TV, Korean TV Shows, TV Comedies   \n",
       "8804                            Comedies, Horror Movies   \n",
       "8805                 Children & Family Movies, Comedies   \n",
       "8806     Dramas, International Movies, Music & Musicals   \n",
       "\n",
       "                                            description  \n",
       "0     As her father nears the end of his life, filmm...  \n",
       "1     After crossing paths at a party, a Cape Town t...  \n",
       "2     To protect his family from a powerful drug lor...  \n",
       "3     Feuds, flirtations and toilet talk go down amo...  \n",
       "4     In a city of coaching centers known to train I...  \n",
       "...                                                 ...  \n",
       "8802  A political cartoonist, a crime reporter and a...  \n",
       "8803  While living alone in a spooky town, a young g...  \n",
       "8804  Looking to survive in a world taken over by zo...  \n",
       "8805  Dragged from civilian life, a former superhero...  \n",
       "8806  A scrappy but poor boy worms his way into a ty...  \n",
       "\n",
       "[8807 rows x 12 columns]"
      ]
     },
     "execution_count": 3,
     "metadata": {},
     "output_type": "execute_result"
    }
   ],
   "source": [
    "df=pd.read_csv(\"netflix_titles.csv\")\n",
    "df"
   ]
  },
  {
   "cell_type": "code",
   "execution_count": 5,
   "id": "5e209387",
   "metadata": {},
   "outputs": [],
   "source": [
    "df.columns = [c.strip().lower().replace(\" \", \"_\") for c in df.columns]"
   ]
  },
  {
   "cell_type": "code",
   "execution_count": 6,
   "id": "3e3473da",
   "metadata": {},
   "outputs": [],
   "source": [
    "str_cols = df.select_dtypes(include=[\"object\"]).columns.tolist()\n",
    "for c in str_cols:\n",
    "    df[c] = df[c].astype(str).str.strip().replace({\"nan\": pd.NA})\n",
    "    df[c] = df[c].str.replace(r\"\\s+\", \" \", regex=True)"
   ]
  },
  {
   "cell_type": "code",
   "execution_count": 7,
   "id": "704f1134",
   "metadata": {},
   "outputs": [],
   "source": [
    "df['date_added'] = pd.to_datetime(df['date_added'], errors='coerce')"
   ]
  },
  {
   "cell_type": "code",
   "execution_count": 8,
   "id": "877396d6",
   "metadata": {},
   "outputs": [],
   "source": [
    "def split_duration(x):\n",
    "    if pd.isna(x):\n",
    "        return pd.Series([pd.NA, pd.NA])\n",
    "    parts = str(x).split()\n",
    "    if len(parts) == 2 and parts[0].isdigit():\n",
    "        return pd.Series([int(parts[0]), parts[1].lower()])\n",
    "    import re\n",
    "    m = re.search(r\"(\\d+)\", str(x))\n",
    "    unit = ' '.join([p for p in parts if not p.isdigit()]).lower() if len(parts)>1 else pd.NA\n",
    "    return pd.Series([int(m.group(1)) if m else pd.NA, unit])\n",
    "\n",
    "df[['duration_int', 'duration_type']] = df['duration'].apply(split_duration)"
   ]
  },
  {
   "cell_type": "code",
   "execution_count": 10,
   "id": "21535a03",
   "metadata": {},
   "outputs": [],
   "source": [
    "df['listed_in'] = df['listed_in'].astype(\"string\").str.replace(r\"\\s*,\\s*\", \", \", regex=True)"
   ]
  },
  {
   "cell_type": "code",
   "execution_count": 11,
   "id": "d7f8b787",
   "metadata": {},
   "outputs": [],
   "source": [
    "for col in ['cast', 'director', 'country']:\n",
    "    if col in df.columns:\n",
    "        df[col] = df[col].replace({\"nan\": pd.NA})\n",
    "        df[col] = df[col].fillna(\"Unknown\")"
   ]
  },
  {
   "cell_type": "code",
   "execution_count": 12,
   "id": "920a057a",
   "metadata": {},
   "outputs": [],
   "source": [
    "df = df.drop_duplicates()"
   ]
  },
  {
   "cell_type": "code",
   "execution_count": 13,
   "id": "06b95adf",
   "metadata": {},
   "outputs": [],
   "source": [
    "for c in df.select_dtypes(include=['object']).columns:\n",
    "    df[c] = df[c].astype(str).str.strip().replace({'nan': pd.NA})\n",
    "    df[c] = df[c].str.replace(r\"\\s+\", \" \", regex=True)"
   ]
  },
  {
   "cell_type": "code",
   "execution_count": 14,
   "id": "a5c36b7f",
   "metadata": {},
   "outputs": [],
   "source": [
    "if 'date_added' in df.columns:\n",
    "    df['year_added'] = pd.DatetimeIndex(df['date_added']).year\n",
    "    df['month_added'] = pd.DatetimeIndex(df['date_added']).month\n",
    "else:\n",
    "    df['year_added'] = pd.NA\n",
    "    df['month_added'] = pd.NA"
   ]
  },
  {
   "cell_type": "code",
   "execution_count": 15,
   "id": "a330c750",
   "metadata": {},
   "outputs": [],
   "source": [
    "if 'release_year' in df.columns:\n",
    "    df['release_year'] = pd.to_numeric(df['release_year'], errors='coerce').astype('Int64')\n",
    "    df['content_age'] = df['year_added'] - df['release_year']\n",
    "    df['content_age'] = df['content_age'].fillna(0)\n",
    "    df['content_age'] = df['content_age'].apply(lambda x: x if (pd.notna(x) and x >= 0) else 0)\n",
    "else:\n",
    "    df['content_age'] = 0"
   ]
  },
  {
   "cell_type": "code",
   "execution_count": 16,
   "id": "e68c8725",
   "metadata": {},
   "outputs": [],
   "source": [
    "if 'type' in df.columns:\n",
    "    df['is_movie'] = df['type'].str.lower().map(lambda x: 1 if x == 'movie' else 0)\n",
    "else:\n",
    "    df['is_movie'] = 0"
   ]
  },
  {
   "cell_type": "code",
   "execution_count": 17,
   "id": "9fba21e5",
   "metadata": {},
   "outputs": [],
   "source": [
    "if 'listed_in' in df.columns:\n",
    "    df['genres_list'] = df['listed_in'].fillna('').apply(lambda s: [g.strip() for g in s.split(',')] if s else [])"
   ]
  },
  {
   "cell_type": "code",
   "execution_count": 18,
   "id": "5f5410b2",
   "metadata": {},
   "outputs": [],
   "source": [
    "if 'rating' in df.columns:\n",
    "    df['rating'] = df['rating'].fillna('Unknown')"
   ]
  },
  {
   "cell_type": "code",
   "execution_count": 19,
   "id": "764f515a",
   "metadata": {},
   "outputs": [
    {
     "name": "stdout",
     "output_type": "stream",
     "text": [
      "\n",
      "Basic counts:\n",
      "Total titles: 8807\n",
      "Movie      6131\n",
      "TV Show    2676\n",
      "Name: type, dtype: int64\n"
     ]
    }
   ],
   "source": [
    "print(\"\\nBasic counts:\")\n",
    "print(\"Total titles:\", len(df))\n",
    "if 'type' in df.columns:\n",
    "    print(df['type'].value_counts())"
   ]
  },
  {
   "cell_type": "code",
   "execution_count": 20,
   "id": "22c26fa3",
   "metadata": {},
   "outputs": [
    {
     "data": {
      "image/png": "[encoded data removed]",
      "text/plain": [
       "<Figure size 432x288 with 1 Axes>"
      ]
     },
     "metadata": {},
     "output_type": "display_data"
    }
   ],
   "source": [
    "sns.set(style='whitegrid')\n",
    "\n",
    "try:\n",
    "    plt.figure(figsize=(6,4))\n",
    "    if 'type' in df.columns:\n",
    "        sns.countplot(data=df, x='type', order=df['type'].value_counts().index)\n",
    "    plt.title(\"Movies vs TV Shows\")\n",
    "    plt.tight_layout()\n",
    "    plt.show()\n",
    "except Exception as e:\n",
    "    print(\"Plot error (type):\", e)"
   ]
  },
  {
   "cell_type": "code",
   "execution_count": 21,
   "id": "fb012373",
   "metadata": {},
   "outputs": [
    {
     "name": "stdout",
     "output_type": "stream",
     "text": [
      "\n",
      "Top countries:\n",
      " United States     2818\n",
      "India              972\n",
      "Unknown            831\n",
      "United Kingdom     419\n",
      "Japan              245\n",
      "South Korea        199\n",
      "Canada             181\n",
      "Spain              145\n",
      "France             124\n",
      "Mexico             110\n",
      "Name: country, dtype: int64\n"
     ]
    }
   ],
   "source": [
    "if 'country' in df.columns:\n",
    "    top_countries = df['country'].value_counts().head(10)\n",
    "    print(\"\\nTop countries:\\n\", top_countries)"
   ]
  },
  {
   "cell_type": "code",
   "execution_count": 22,
   "id": "a83b4475",
   "metadata": {},
   "outputs": [
    {
     "name": "stdout",
     "output_type": "stream",
     "text": [
      "\n",
      "Top genres:\n",
      " International Movies        2752\n",
      "Dramas                      2427\n",
      "Comedies                    1674\n",
      "International TV Shows      1351\n",
      "Documentaries                869\n",
      "Action & Adventure           859\n",
      "TV Dramas                    763\n",
      "Independent Movies           756\n",
      "Children & Family Movies     641\n",
      "Romantic Movies              616\n",
      "dtype: int64\n"
     ]
    }
   ],
   "source": [
    "if 'genres_list' in df.columns:\n",
    "    from collections import Counter\n",
    "    genre_flat = [g for sub in df['genres_list'] for g in sub if g]\n",
    "    top_genres = pd.Series(Counter(genre_flat)).sort_values(ascending=False).head(10)\n",
    "    print(\"\\nTop genres:\\n\", top_genres)"
   ]
  },
  {
   "cell_type": "code",
   "execution_count": 23,
   "id": "f6d54de7",
   "metadata": {},
   "outputs": [
    {
     "name": "stdout",
     "output_type": "stream",
     "text": [
      "\n",
      "Candidate features for supervised model: ['duration_int', 'content_age', 'rating', 'country', 'year_added']\n"
     ]
    }
   ],
   "source": [
    "candidate_features = []\n",
    "for c in ['duration_int','content_age','rating','country','year_added']:\n",
    "    if c in df.columns:\n",
    "        candidate_features.append(c)\n",
    "print(\"\\nCandidate features for supervised model:\", candidate_features)\n",
    "\n",
    "X = df[candidate_features].copy()\n",
    "y = df['is_movie'].copy() "
   ]
  },
  {
   "cell_type": "code",
   "execution_count": 24,
   "id": "62611a7e",
   "metadata": {},
   "outputs": [
    {
     "name": "stdout",
     "output_type": "stream",
     "text": [
      "Rows after dropping missing duration_int for modeling: 8807 (dropped 0 )\n"
     ]
    }
   ],
   "source": [
    "X = X.copy()\n",
    "initial_len = len(X)\n",
    "X = X.dropna(subset=['duration_int'])\n",
    "y = y.loc[X.index]\n",
    "print(\"Rows after dropping missing duration_int for modeling:\", len(X), \"(dropped\", initial_len - len(X), \")\")"
   ]
  },
  {
   "cell_type": "code",
   "execution_count": 25,
   "id": "a22f2875",
   "metadata": {},
   "outputs": [
    {
     "name": "stdout",
     "output_type": "stream",
     "text": [
      "Numeric features: ['content_age', 'year_added']\n",
      "Categorical features: ['duration_int', 'rating', 'country']\n"
     ]
    }
   ],
   "source": [
    "numeric_features = X.select_dtypes(include=[np.number]).columns.tolist()\n",
    "categorical_features = [c for c in X.columns if c not in numeric_features]\n",
    "\n",
    "print(\"Numeric features:\", numeric_features)\n",
    "print(\"Categorical features:\", categorical_features)"
   ]
  },
  {
   "cell_type": "code",
   "execution_count": 26,
   "id": "60343949",
   "metadata": {},
   "outputs": [],
   "source": [
    "numeric_transformer = Pipeline([\n",
    "    ('impute', SimpleImputer(strategy='median')),\n",
    "    ('scaler', StandardScaler())\n",
    "])\n",
    "\n",
    "categorical_transformer = Pipeline([\n",
    "    ('impute', SimpleImputer(strategy='constant', fill_value='missing')),\n",
    "    ('onehot', OneHotEncoder(handle_unknown='ignore', sparse=False))\n",
    "])\n",
    "\n",
    "preprocessor = ColumnTransformer(transformers=[\n",
    "    ('num', numeric_transformer, numeric_features),\n",
    "    ('cat', categorical_transformer, categorical_features)\n",
    "])"
   ]
  },
  {
   "cell_type": "code",
   "execution_count": 27,
   "id": "82c8302c",
   "metadata": {},
   "outputs": [
    {
     "name": "stdout",
     "output_type": "stream",
     "text": [
      "Train / test sizes: (7045, 5) (1762, 5)\n",
      "No. of movies in train: 4904  / test: 1227\n"
     ]
    }
   ],
   "source": [
    "X_train, X_test, y_train, y_test = train_test_split(X, y, test_size=0.2, stratify=y, random_state=42)\n",
    "print(\"Train / test sizes:\", X_train.shape, X_test.shape)\n",
    "print(\"No. of movies in train:\", y_train.sum(), \" / test:\", y_test.sum())"
   ]
  },
  {
   "cell_type": "code",
   "execution_count": 29,
   "id": "c55e41a9",
   "metadata": {},
   "outputs": [],
   "source": [
    "pipe_lr = Pipeline([('preproc', preprocessor),\n",
    "                    ('clf', LogisticRegression(max_iter=1000, class_weight='balanced'))])\n",
    "\n",
    "pipe_rf = Pipeline([('preproc', preprocessor),\n",
    "                    ('clf', RandomForestClassifier(n_estimators=200, random_state=42, class_weight='balanced'))])"
   ]
  },
  {
   "cell_type": "code",
   "execution_count": 30,
   "id": "a494d311",
   "metadata": {},
   "outputs": [
    {
     "data": {
      "text/plain": [
       "Pipeline(steps=[('preproc',\n",
       "                 ColumnTransformer(transformers=[('num',\n",
       "                                                  Pipeline(steps=[('impute',\n",
       "                                                                   SimpleImputer(strategy='median')),\n",
       "                                                                  ('scaler',\n",
       "                                                                   StandardScaler())]),\n",
       "                                                  ['content_age',\n",
       "                                                   'year_added']),\n",
       "                                                 ('cat',\n",
       "                                                  Pipeline(steps=[('impute',\n",
       "                                                                   SimpleImputer(fill_value='missing',\n",
       "                                                                                 strategy='constant')),\n",
       "                                                                  ('onehot',\n",
       "                                                                   OneHotEncoder(handle_unknown='ignore',\n",
       "                                                                                 sparse=False))]),\n",
       "                                                  ['duration_int', 'rating',\n",
       "                                                   'country'])])),\n",
       "                ('clf',\n",
       "                 RandomForestClassifier(class_weight='balanced',\n",
       "                                        n_estimators=200, random_state=42))])"
      ]
     },
     "execution_count": 30,
     "metadata": {},
     "output_type": "execute_result"
    }
   ],
   "source": [
    "pipe_lr.fit(X_train, y_train)\n",
    "pipe_rf.fit(X_train, y_train)"
   ]
  },
  {
   "cell_type": "code",
   "execution_count": 31,
   "id": "808becb3",
   "metadata": {},
   "outputs": [],
   "source": [
    "y_pred_lr = pipe_lr.predict(X_test)\n",
    "y_proba_lr = pipe_lr.predict_proba(X_test)[:, 1] if hasattr(pipe_lr.named_steps['clf'], \"predict_proba\") else np.zeros(len(y_test))\n",
    "\n",
    "y_pred_rf = pipe_rf.predict(X_test)\n",
    "y_proba_rf = pipe_rf.predict_proba(X_test)[:, 1] if hasattr(pipe_rf.named_steps['clf'], \"predict_proba\") else np.zeros(len(y_test))"
   ]
  },
  {
   "cell_type": "code",
   "execution_count": 32,
   "id": "f245d6a5",
   "metadata": {},
   "outputs": [
    {
     "name": "stdout",
     "output_type": "stream",
     "text": [
      "\n",
      "=== Logistic Regression ===\n",
      "Accuracy: 0.9982973893303064\n",
      "Precision: 0.9975609756097561\n",
      "Recall: 1.0\n",
      "F1: 0.9987789987789988\n",
      "ROC AUC: 0.9999954299293925\n",
      "Confusion matrix:\n",
      " [[ 532    3]\n",
      " [   0 1227]]\n",
      "Classification report:\n",
      "               precision    recall  f1-score   support\n",
      "\n",
      "           0       1.00      0.99      1.00       535\n",
      "           1       1.00      1.00      1.00      1227\n",
      "\n",
      "    accuracy                           1.00      1762\n",
      "   macro avg       1.00      1.00      1.00      1762\n",
      "weighted avg       1.00      1.00      1.00      1762\n",
      "\n",
      "\n",
      "=== Random Forest ===\n",
      "Accuracy: 0.9960272417707151\n",
      "Precision: 0.9943273905996759\n",
      "Recall: 1.0\n",
      "F1: 0.9971556277935799\n",
      "ROC AUC: 0.9999474441880127\n",
      "Confusion matrix:\n",
      " [[ 528    7]\n",
      " [   0 1227]]\n",
      "Classification report:\n",
      "               precision    recall  f1-score   support\n",
      "\n",
      "           0       1.00      0.99      0.99       535\n",
      "           1       0.99      1.00      1.00      1227\n",
      "\n",
      "    accuracy                           1.00      1762\n",
      "   macro avg       1.00      0.99      1.00      1762\n",
      "weighted avg       1.00      1.00      1.00      1762\n",
      "\n"
     ]
    }
   ],
   "source": [
    "def eval_model(name, y_true, y_pred, y_proba):\n",
    "    print(f\"\\n=== {name} ===\")\n",
    "    print(\"Accuracy:\", accuracy_score(y_true, y_pred))\n",
    "    print(\"Precision:\", precision_score(y_true, y_pred, zero_division=0))\n",
    "    print(\"Recall:\", recall_score(y_true, y_pred, zero_division=0))\n",
    "    print(\"F1:\", f1_score(y_true, y_pred, zero_division=0))\n",
    "    try:\n",
    "        print(\"ROC AUC:\", roc_auc_score(y_true, y_proba))\n",
    "    except Exception:\n",
    "        print(\"ROC AUC: not computable\")\n",
    "    print(\"Confusion matrix:\\n\", confusion_matrix(y_true, y_pred))\n",
    "    print(\"Classification report:\\n\", classification_report(y_true, y_pred, zero_division=0))\n",
    "\n",
    "eval_model(\"Logistic Regression\", y_test, y_pred_lr, y_proba_lr)\n",
    "eval_model(\"Random Forest\", y_test, y_pred_rf, y_proba_rf)\n",
    "\n"
   ]
  },
  {
   "cell_type": "code",
   "execution_count": 34,
   "id": "0bf67348",
   "metadata": {},
   "outputs": [
    {
     "name": "stdout",
     "output_type": "stream",
     "text": [
      "Could not save enhanced dataset: name 'cluster_df' is not defined\n",
      "\n",
      "=== SHORT SUMMARY ===\n",
      "Rows: 8807\n",
      "Columns: ['show_id', 'type', 'title', 'director', 'cast', 'country', 'date_added', 'release_year', 'rating', 'duration', 'listed_in', 'description', 'duration_int', 'duration_type', 'year_added', 'month_added', 'content_age', 'is_movie', 'genres_list']\n",
      "Features engineered: year_added, month_added, content_age, is_movie (binary)\n",
      "Saved cleaned and enhanced CSVs to /mnt/data\n",
      "Models trained: LogisticRegression, RandomForest (predicting Movie vs TV Show)\n",
      "Unsupervised: KMeans clustering (3 clusters) on release_year, duration_int, content_age\n"
     ]
    }
   ],
   "source": [
    "try:\n",
    "    # use (release_year, duration_int, content_age) as join key if duplicates are many, this is approximate\n",
    "    df_enh = df.copy()\n",
    "    if 'cluster' in cluster_df.columns:\n",
    "        # create a helper key on both\n",
    "        cluster_df['_k'] = cluster_df['release_year'].astype(str) + \"_\" + cluster_df['duration_int'].astype(str) + \"_\" + cluster_df['content_age'].astype(str)\n",
    "        df_enh['_k'] = df_enh['release_year'].astype(str) + \"_\" + df_enh['duration_int'].astype(str) + \"_\" + df_enh['content_age'].astype(str)\n",
    "        df_enh = df_enh.merge(cluster_df[['_k','cluster']], on='_k', how='left')\n",
    "        df_enh.drop(columns=['_k'], inplace=True)\n",
    "    # add predicted labels (random forest) on rows used for modeling\n",
    "    df_enh.loc[X_test.index, 'pred_is_movie_rf'] = y_pred_rf\n",
    "    df_enh.to_csv(out_enh, index=False)\n",
    "    print(\"Saved enhanced dataset to:\", out_enh)\n",
    "except Exception as e:\n",
    "    print(\"Could not save enhanced dataset:\", e)\n",
    "\n",
    "print(\"\\n=== SHORT SUMMARY ===\")\n",
    "print(\"Rows:\", len(df))\n",
    "print(\"Columns:\", df.columns.tolist())\n",
    "print(\"Features engineered: year_added, month_added, content_age, is_movie (binary)\")\n",
    "print(\"Saved cleaned and enhanced CSVs to /mnt/data\")\n",
    "print(\"Models trained: LogisticRegression, RandomForest (predicting Movie vs TV Show)\")\n",
    "print(\"Unsupervised: KMeans clustering (3 clusters) on release_year, duration_int, content_age\")\n"
   ]
  },
  {
   "cell_type": "code",
   "execution_count": null,
   "id": "ead9972d",
   "metadata": {},
   "outputs": [],
   "source": []
  }
 ],
 "metadata": {
  "kernelspec": {
   "display_name": "Python 3 (ipykernel)",
   "language": "python",
   "name": "python3"
  },
  "language_info": {
   "codemirror_mode": {
    "name": "ipython",
    "version": 3
   },
   "file_extension": ".py",
   "mimetype": "text/x-python",
   "name": "python",
   "nbconvert_exporter": "python",
   "pygments_lexer": "ipython3",
   "version": "3.9.12"
  }
 },
 "nbformat": 4,
 "nbformat_minor": 5
}
